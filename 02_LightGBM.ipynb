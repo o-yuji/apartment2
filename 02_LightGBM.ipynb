{
 "cells": [
  {
   "cell_type": "code",
   "execution_count": 50,
   "metadata": {},
   "outputs": [],
   "source": [
    "import os\n",
    "import gc\n",
    "import time\n",
    "import json\n",
    "import random\n",
    "import numpy as np\n",
    "import pandas as pd\n",
    "import lightgbm as lgb\n",
    "from tqdm import tqdm\n",
    "\n",
    "import matplotlib.pyplot as plt\n",
    "import seaborn as sns\n",
    "import japanize_matplotlib\n"
   ]
  },
  {
   "cell_type": "code",
   "execution_count": 51,
   "metadata": {},
   "outputs": [],
   "source": [
    "with open('./env/settings.json') as f:\n",
    "  path_file = json.load(f)\n",
    "\n",
    "TRAIN_PROCESSED_DATA_PATH = path_file['TRAIN_PROCESSED_DATA_PATH']\n",
    "TEST_PROCESSED_DATA_PATH = path_file['TEST_PROCESSED_DATA_PATH']\n",
    "\n",
    "PROCESSED_DATA_DIR = path_file[\"PROCESSED_DATA_DIR\"]\n",
    "SUBMISSION_DIR = path_file[\"SUBMISSION_DIR\"]\n",
    "\n",
    "OUTPUT_DIR = path_file[\"OUTPUT_DIR\"]"
   ]
  },
  {
   "cell_type": "code",
   "execution_count": 52,
   "metadata": {},
   "outputs": [],
   "source": [
    "TARGET_COL=\"取引価格（総額）_log\"\n",
    "ID_COL=\"ID\"\n",
    "RANDOM_STATE=42"
   ]
  },
  {
   "cell_type": "code",
   "execution_count": 53,
   "metadata": {},
   "outputs": [],
   "source": [
    "import random\n",
    "import numpy as np\n",
    "def set_seed(seed=42):\n",
    "    random.seed(seed)\n",
    "    os.environ['PYTHONHASHSEED'] = str(seed)\n",
    "    np.random.seed(seed)"
   ]
  },
  {
   "cell_type": "code",
   "execution_count": 54,
   "metadata": {},
   "outputs": [],
   "source": [
    "train_df = pd.read_csv(TRAIN_PROCESSED_DATA_PATH)\n",
    "test_df = pd.read_csv(TEST_PROCESSED_DATA_PATH)"
   ]
  },
  {
   "cell_type": "code",
   "execution_count": 55,
   "metadata": {},
   "outputs": [],
   "source": [
    "qualitative = [f for f in train_df.columns if train_df[f].dtype == \"object\"]\n",
    "\n",
    "for col in qualitative:\n",
    "  train_df[col] = train_df[col].astype('category')\n",
    "  test_df[col] = test_df[col].astype('category')"
   ]
  },
  {
   "cell_type": "code",
   "execution_count": 56,
   "metadata": {},
   "outputs": [],
   "source": [
    "del_col  = [TARGET_COL,\"ID\"]\n",
    "y_train = train_df[TARGET_COL]"
   ]
  },
  {
   "cell_type": "code",
   "execution_count": 57,
   "metadata": {},
   "outputs": [
    {
     "data": {
      "text/html": [
       "<div>\n",
       "<style scoped>\n",
       "    .dataframe tbody tr th:only-of-type {\n",
       "        vertical-align: middle;\n",
       "    }\n",
       "\n",
       "    .dataframe tbody tr th {\n",
       "        vertical-align: top;\n",
       "    }\n",
       "\n",
       "    .dataframe thead th {\n",
       "        text-align: right;\n",
       "    }\n",
       "</style>\n",
       "<table border=\"1\" class=\"dataframe\">\n",
       "  <thead>\n",
       "    <tr style=\"text-align: right;\">\n",
       "      <th></th>\n",
       "      <th>ID</th>\n",
       "      <th>市区町村コード</th>\n",
       "      <th>都道府県名</th>\n",
       "      <th>市区町村名</th>\n",
       "      <th>地区名</th>\n",
       "      <th>最寄駅：名称</th>\n",
       "      <th>最寄駅：距離（分）</th>\n",
       "      <th>間取り</th>\n",
       "      <th>面積（㎡）</th>\n",
       "      <th>建築年</th>\n",
       "      <th>建物の構造</th>\n",
       "      <th>用途</th>\n",
       "      <th>今後の利用目的</th>\n",
       "      <th>都市計画</th>\n",
       "      <th>建ぺい率（％）</th>\n",
       "      <th>容積率（％）</th>\n",
       "      <th>取引時点</th>\n",
       "      <th>改装</th>\n",
       "      <th>取引価格（総額）_log</th>\n",
       "    </tr>\n",
       "  </thead>\n",
       "  <tbody>\n",
       "    <tr>\n",
       "      <th>0</th>\n",
       "      <td>1000000</td>\n",
       "      <td>1101</td>\n",
       "      <td>北海道</td>\n",
       "      <td>札幌市中央区</td>\n",
       "      <td>旭ケ丘</td>\n",
       "      <td>円山公園</td>\n",
       "      <td>26.0</td>\n",
       "      <td>３ＬＤＫ</td>\n",
       "      <td>75.0</td>\n",
       "      <td>1989.0</td>\n",
       "      <td>ＲＣ</td>\n",
       "      <td>NaN</td>\n",
       "      <td>住宅</td>\n",
       "      <td>第１種低層住居専用地域</td>\n",
       "      <td>40.0</td>\n",
       "      <td>60.0</td>\n",
       "      <td>2020年第２四半期</td>\n",
       "      <td>未改装</td>\n",
       "      <td>NaN</td>\n",
       "    </tr>\n",
       "    <tr>\n",
       "      <th>1</th>\n",
       "      <td>1000056</td>\n",
       "      <td>1101</td>\n",
       "      <td>北海道</td>\n",
       "      <td>札幌市中央区</td>\n",
       "      <td>大通西</td>\n",
       "      <td>西１１丁目</td>\n",
       "      <td>1.0</td>\n",
       "      <td>２ＬＤＫ</td>\n",
       "      <td>55.0</td>\n",
       "      <td>2016.0</td>\n",
       "      <td>ＲＣ</td>\n",
       "      <td>NaN</td>\n",
       "      <td>住宅</td>\n",
       "      <td>商業地域</td>\n",
       "      <td>80.0</td>\n",
       "      <td>600.0</td>\n",
       "      <td>2020年第１四半期</td>\n",
       "      <td>未改装</td>\n",
       "      <td>NaN</td>\n",
       "    </tr>\n",
       "    <tr>\n",
       "      <th>2</th>\n",
       "      <td>1000108</td>\n",
       "      <td>1101</td>\n",
       "      <td>北海道</td>\n",
       "      <td>札幌市中央区</td>\n",
       "      <td>大通西</td>\n",
       "      <td>西１８丁目</td>\n",
       "      <td>2.0</td>\n",
       "      <td>１Ｒ</td>\n",
       "      <td>15.0</td>\n",
       "      <td>1989.0</td>\n",
       "      <td>ＳＲＣ</td>\n",
       "      <td>NaN</td>\n",
       "      <td>住宅</td>\n",
       "      <td>商業地域</td>\n",
       "      <td>80.0</td>\n",
       "      <td>400.0</td>\n",
       "      <td>2020年第２四半期</td>\n",
       "      <td>未改装</td>\n",
       "      <td>NaN</td>\n",
       "    </tr>\n",
       "  </tbody>\n",
       "</table>\n",
       "</div>"
      ],
      "text/plain": [
       "        ID  市区町村コード 都道府県名   市区町村名  地区名 最寄駅：名称  最寄駅：距離（分）   間取り  面積（㎡）     建築年  \\\n",
       "0  1000000     1101   北海道  札幌市中央区  旭ケ丘   円山公園       26.0  ３ＬＤＫ   75.0  1989.0   \n",
       "1  1000056     1101   北海道  札幌市中央区  大通西  西１１丁目        1.0  ２ＬＤＫ   55.0  2016.0   \n",
       "2  1000108     1101   北海道  札幌市中央区  大通西  西１８丁目        2.0    １Ｒ   15.0  1989.0   \n",
       "\n",
       "  建物の構造   用途 今後の利用目的         都市計画  建ぺい率（％）  容積率（％）        取引時点   改装  \\\n",
       "0    ＲＣ  NaN      住宅  第１種低層住居専用地域     40.0    60.0  2020年第２四半期  未改装   \n",
       "1    ＲＣ  NaN      住宅         商業地域     80.0   600.0  2020年第１四半期  未改装   \n",
       "2   ＳＲＣ  NaN      住宅         商業地域     80.0   400.0  2020年第２四半期  未改装   \n",
       "\n",
       "   取引価格（総額）_log  \n",
       "0           NaN  \n",
       "1           NaN  \n",
       "2           NaN  "
      ]
     },
     "execution_count": 57,
     "metadata": {},
     "output_type": "execute_result"
    }
   ],
   "source": [
    "test_df.head(3)"
   ]
  },
  {
   "cell_type": "code",
   "execution_count": 58,
   "metadata": {},
   "outputs": [],
   "source": [
    "from sklearn.model_selection import train_test_split"
   ]
  },
  {
   "cell_type": "code",
   "execution_count": 59,
   "metadata": {},
   "outputs": [],
   "source": [
    "X_train,X_test,y_train,y_test = train_test_split(train_df.drop(del_col,axis=1),y_train,test_size=0.25,shuffle=True,random_state=RANDOM_STATE)"
   ]
  },
  {
   "cell_type": "code",
   "execution_count": 60,
   "metadata": {},
   "outputs": [
    {
     "name": "stdout",
     "output_type": "stream",
     "text": [
      "[LightGBM] [Warning] Accuracy may be bad since you didn't explicitly set num_leaves OR 2^max_depth > num_leaves. (num_leaves=31).\n",
      "[LightGBM] [Warning] Categorical features with more bins than the configured maximum bin number found.\n",
      "[LightGBM] [Warning] For categorical features, max_bin and max_bin_by_feature may be ignored with a large number of categories.\n",
      "[LightGBM] [Warning] Accuracy may be bad since you didn't explicitly set num_leaves OR 2^max_depth > num_leaves. (num_leaves=31).\n",
      "[LightGBM] [Warning] Auto-choosing col-wise multi-threading, the overhead of testing was 0.024114 seconds.\n",
      "You can set `force_col_wise=true` to remove the overhead.\n",
      "[LightGBM] [Info] Total Bins 11958\n",
      "[LightGBM] [Info] Number of data points in the train set: 478013, number of used features: 17\n",
      "[LightGBM] [Warning] Accuracy may be bad since you didn't explicitly set num_leaves OR 2^max_depth > num_leaves. (num_leaves=31).\n",
      "[LightGBM] [Info] Start training from score 7.255272\n",
      "Training until validation scores don't improve for 800 rounds\n",
      "[LightGBM] [Warning] No further splits with positive gain, best gain: -inf\n",
      "[LightGBM] [Warning] No further splits with positive gain, best gain: -inf\n",
      "Did not meet early stopping. Best iteration is:\n",
      "[2500]\tvalid_0's l1: 0.0786879\n"
     ]
    },
    {
     "data": {
      "text/html": [
       "<style>#sk-container-id-2 {color: black;}#sk-container-id-2 pre{padding: 0;}#sk-container-id-2 div.sk-toggleable {background-color: white;}#sk-container-id-2 label.sk-toggleable__label {cursor: pointer;display: block;width: 100%;margin-bottom: 0;padding: 0.3em;box-sizing: border-box;text-align: center;}#sk-container-id-2 label.sk-toggleable__label-arrow:before {content: \"▸\";float: left;margin-right: 0.25em;color: #696969;}#sk-container-id-2 label.sk-toggleable__label-arrow:hover:before {color: black;}#sk-container-id-2 div.sk-estimator:hover label.sk-toggleable__label-arrow:before {color: black;}#sk-container-id-2 div.sk-toggleable__content {max-height: 0;max-width: 0;overflow: hidden;text-align: left;background-color: #f0f8ff;}#sk-container-id-2 div.sk-toggleable__content pre {margin: 0.2em;color: black;border-radius: 0.25em;background-color: #f0f8ff;}#sk-container-id-2 input.sk-toggleable__control:checked~div.sk-toggleable__content {max-height: 200px;max-width: 100%;overflow: auto;}#sk-container-id-2 input.sk-toggleable__control:checked~label.sk-toggleable__label-arrow:before {content: \"▾\";}#sk-container-id-2 div.sk-estimator input.sk-toggleable__control:checked~label.sk-toggleable__label {background-color: #d4ebff;}#sk-container-id-2 div.sk-label input.sk-toggleable__control:checked~label.sk-toggleable__label {background-color: #d4ebff;}#sk-container-id-2 input.sk-hidden--visually {border: 0;clip: rect(1px 1px 1px 1px);clip: rect(1px, 1px, 1px, 1px);height: 1px;margin: -1px;overflow: hidden;padding: 0;position: absolute;width: 1px;}#sk-container-id-2 div.sk-estimator {font-family: monospace;background-color: #f0f8ff;border: 1px dotted black;border-radius: 0.25em;box-sizing: border-box;margin-bottom: 0.5em;}#sk-container-id-2 div.sk-estimator:hover {background-color: #d4ebff;}#sk-container-id-2 div.sk-parallel-item::after {content: \"\";width: 100%;border-bottom: 1px solid gray;flex-grow: 1;}#sk-container-id-2 div.sk-label:hover label.sk-toggleable__label {background-color: #d4ebff;}#sk-container-id-2 div.sk-serial::before {content: \"\";position: absolute;border-left: 1px solid gray;box-sizing: border-box;top: 0;bottom: 0;left: 50%;z-index: 0;}#sk-container-id-2 div.sk-serial {display: flex;flex-direction: column;align-items: center;background-color: white;padding-right: 0.2em;padding-left: 0.2em;position: relative;}#sk-container-id-2 div.sk-item {position: relative;z-index: 1;}#sk-container-id-2 div.sk-parallel {display: flex;align-items: stretch;justify-content: center;background-color: white;position: relative;}#sk-container-id-2 div.sk-item::before, #sk-container-id-2 div.sk-parallel-item::before {content: \"\";position: absolute;border-left: 1px solid gray;box-sizing: border-box;top: 0;bottom: 0;left: 50%;z-index: -1;}#sk-container-id-2 div.sk-parallel-item {display: flex;flex-direction: column;z-index: 1;position: relative;background-color: white;}#sk-container-id-2 div.sk-parallel-item:first-child::after {align-self: flex-end;width: 50%;}#sk-container-id-2 div.sk-parallel-item:last-child::after {align-self: flex-start;width: 50%;}#sk-container-id-2 div.sk-parallel-item:only-child::after {width: 0;}#sk-container-id-2 div.sk-dashed-wrapped {border: 1px dashed gray;margin: 0 0.4em 0.5em 0.4em;box-sizing: border-box;padding-bottom: 0.4em;background-color: white;}#sk-container-id-2 div.sk-label label {font-family: monospace;font-weight: bold;display: inline-block;line-height: 1.2em;}#sk-container-id-2 div.sk-label-container {text-align: center;}#sk-container-id-2 div.sk-container {/* jupyter's `normalize.less` sets `[hidden] { display: none; }` but bootstrap.min.css set `[hidden] { display: none !important; }` so we also need the `!important` here to be able to override the default hidden behavior on the sphinx rendered scikit-learn.org. See: https://github.com/scikit-learn/scikit-learn/issues/21755 */display: inline-block !important;position: relative;}#sk-container-id-2 div.sk-text-repr-fallback {display: none;}</style><div id=\"sk-container-id-2\" class=\"sk-top-container\"><div class=\"sk-text-repr-fallback\"><pre>LGBMRegressor(colsample_bytree=0.5, device=&#x27;cpu&#x27;, importance_type=&#x27;gain&#x27;,\n",
       "              learning_rate=0.01, max_bin=100, max_depth=10,\n",
       "              min_child_samples=10, n_estimators=2500, n_jobs=-1,\n",
       "              objective=&#x27;mae&#x27;, random_state=42, reg_alpha=0.1, reg_lambda=1.0,\n",
       "              subsample=0.9, subsample_freq=3)</pre><b>In a Jupyter environment, please rerun this cell to show the HTML representation or trust the notebook. <br />On GitHub, the HTML representation is unable to render, please try loading this page with nbviewer.org.</b></div><div class=\"sk-container\" hidden><div class=\"sk-item\"><div class=\"sk-estimator sk-toggleable\"><input class=\"sk-toggleable__control sk-hidden--visually\" id=\"sk-estimator-id-2\" type=\"checkbox\" checked><label for=\"sk-estimator-id-2\" class=\"sk-toggleable__label sk-toggleable__label-arrow\">LGBMRegressor</label><div class=\"sk-toggleable__content\"><pre>LGBMRegressor(colsample_bytree=0.5, device=&#x27;cpu&#x27;, importance_type=&#x27;gain&#x27;,\n",
       "              learning_rate=0.01, max_bin=100, max_depth=10,\n",
       "              min_child_samples=10, n_estimators=2500, n_jobs=-1,\n",
       "              objective=&#x27;mae&#x27;, random_state=42, reg_alpha=0.1, reg_lambda=1.0,\n",
       "              subsample=0.9, subsample_freq=3)</pre></div></div></div></div></div>"
      ],
      "text/plain": [
       "LGBMRegressor(colsample_bytree=0.5, device='cpu', importance_type='gain',\n",
       "              learning_rate=0.01, max_bin=100, max_depth=10,\n",
       "              min_child_samples=10, n_estimators=2500, n_jobs=-1,\n",
       "              objective='mae', random_state=42, reg_alpha=0.1, reg_lambda=1.0,\n",
       "              subsample=0.9, subsample_freq=3)"
      ]
     },
     "execution_count": 60,
     "metadata": {},
     "output_type": "execute_result"
    }
   ],
   "source": [
    "feature_selection_params = {\n",
    "    \"objective\": \"mae\",                # 目的関数\n",
    "    \"learning_rate\": 0.01,             # 学習率 \n",
    "    \"reg_lambda\": 1.0,                 # L2正則化項\n",
    "    \"reg_alpha\": 0.1,                  # L1正則化項\n",
    "    \"max_depth\": 10,                   # 決定木の深さ\n",
    "    \"n_estimators\": 2500,              # 決定木の数\n",
    "    \"colsample_bytree\": .5,            # 各木を作成するときに使用可能な特徴量の割合\n",
    "    \"min_child_samples\": 10,           # 末端ノードに含まれる最小のデータ数\n",
    "    \"subsample\": .9,                   # 各ツリーで選択されるサンプリングの割合\n",
    "    \"subsample_freq\": 3,               # サンプリングの頻度\n",
    "    \"importance_type\": \"gain\",         # 重要度の種類を指定 split:特徴がモデルで何回使われたか, gain:徴を利用した分割の総獲得数\n",
    "    \"random_state\": RANDOM_STATE,      # 乱数シード\n",
    "    \"n_jobs\":-1,                       # 並列処理\n",
    "    \"device\":\"cpu\",                    # デバイス設定、GPU環境なら \"gpu\"を指定\n",
    "    \"max_bin\":100,                     # 一つの分岐に入るデータ数の最大値\n",
    "}\n",
    "\n",
    "set_seed(RANDOM_STATE)\n",
    "model=lgb.LGBMRegressor(**feature_selection_params)\n",
    "model.fit(X_train, y_train,\n",
    "            eval_set=[(X_test,y_test)],\n",
    "            eval_metric=\"mae\",\n",
    "            callbacks=[lgb.early_stopping(stopping_rounds=800,verbose=True),lgb.log_evaluation(0)]\n",
    "            )"
   ]
  },
  {
   "cell_type": "code",
   "execution_count": 61,
   "metadata": {},
   "outputs": [
    {
     "data": {
      "image/png": "[encoded data removed]",
      "text/plain": [
       "<Figure size 1100x500 with 1 Axes>"
      ]
     },
     "metadata": {},
     "output_type": "display_data"
    }
   ],
   "source": [
    "feature_imp = pd.DataFrame(sorted(zip(model.feature_importances_,X_train.columns)),columns=['Value','Feature'])\n",
    "plt.figure(figsize=(11,5))\n",
    "sns.barplot(data=feature_imp.sort_values(by='Value',ascending=False),x='Value',y=\"Feature\",color='deepskyblue')\n",
    "plt.tight_layout()\n",
    "plt.show()"
   ]
  },
  {
   "cell_type": "code",
   "execution_count": 62,
   "metadata": {},
   "outputs": [],
   "source": [
    "from sklearn.metrics import mean_absolute_error"
   ]
  },
  {
   "cell_type": "code",
   "execution_count": 63,
   "metadata": {},
   "outputs": [
    {
     "name": "stdout",
     "output_type": "stream",
     "text": [
      "[LightGBM] [Warning] Accuracy may be bad since you didn't explicitly set num_leaves OR 2^max_depth > num_leaves. (num_leaves=31).\n"
     ]
    },
    {
     "data": {
      "text/plain": [
       "0.07868793562121934"
      ]
     },
     "execution_count": 63,
     "metadata": {},
     "output_type": "execute_result"
    }
   ],
   "source": [
    "from sklearn.metrics import mean_absolute_error\n",
    "y_pred = model.predict(X_test)\n",
    "mean_absolute_error(y_test, y_pred)"
   ]
  },
  {
   "cell_type": "code",
   "execution_count": 70,
   "metadata": {},
   "outputs": [
    {
     "name": "stdout",
     "output_type": "stream",
     "text": [
      "[LightGBM] [Warning] Accuracy may be bad since you didn't explicitly set num_leaves OR 2^max_depth > num_leaves. (num_leaves=31).\n"
     ]
    }
   ],
   "source": [
    "test_df[TARGET_COL] = model.predict(test_df.drop([TARGET_COL,\"ID\"], axis=1))\n",
    "# test_df[TARGET_COL] = model.predict(test_df.drop(\"ID\",axis=1))\n",
    "\n",
    "submission = pd.read_csv(SUBMISSION_DIR)\n",
    "submission[TARGET_COL] = test_df[TARGET_COL]\n",
    "submission = pd.merge(submission[\"ID\"],test_df[[\"ID\",TARGET_COL]],on=\"ID\")"
   ]
  },
  {
   "cell_type": "code",
   "execution_count": 73,
   "metadata": {},
   "outputs": [],
   "source": [
    "exp_name = \"lightgbm_baseline\"\n",
    "\n",
    "import pytz\n",
    "import datetime\n",
    "now = datetime.datetime.now(pytz.timezone('Asia/Tokyo')).strftime('%Y-%m-%d-%H-%M-%S')\n",
    "if not os.path.exists(OUTPUT_DIR):\n",
    "    os.mkdir(OUTPUT_DIR)\n",
    "\n",
    "submission.to_csv(f\"{OUTPUT_DIR}submission_{exp_name}_{now}.csv\", index=False)"
   ]
  }
 ],
 "metadata": {
  "kernelspec": {
   "display_name": "Python 3",
   "language": "python",
   "name": "python3"
  },
  "language_info": {
   "codemirror_mode": {
    "name": "ipython",
    "version": 3
   },
   "file_extension": ".py",
   "mimetype": "text/x-python",
   "name": "python",
   "nbconvert_exporter": "python",
   "pygments_lexer": "ipython3",
   "version": "3.10.1"
  },
  "orig_nbformat": 4
 },
 "nbformat": 4,
 "nbformat_minor": 2
}
