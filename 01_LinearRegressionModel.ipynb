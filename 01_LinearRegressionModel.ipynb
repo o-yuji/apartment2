{
 "cells": [
  {
   "cell_type": "code",
   "execution_count": 195,
   "metadata": {},
   "outputs": [],
   "source": [
    "import os\n",
    "import gc\n",
    "import time\n",
    "import json\n",
    "import random\n",
    "import numpy as np\n",
    "import pandas as pd\n",
    "import lightgbm as lgb\n",
    "from tqdm import tqdm\n",
    "\n",
    "from joblib import Parallel, delayed\n",
    "\n",
    "import matplotlib.pyplot as plt\n",
    "import seaborn as sns\n",
    "import japanize_matplotlib"
   ]
  },
  {
   "cell_type": "code",
   "execution_count": 196,
   "metadata": {},
   "outputs": [],
   "source": [
    "with open('./env/settings.json')as f:\n",
    "  path_file = json.load(f)\n",
    "\n",
    "TRAIN_PROCESSED_DATA_PATH = path_file[\"TRAIN_PROCESSED_DATA_PATH\"]\n",
    "TEST_PROCESSED_DATA_PATH = path_file[\"TEST_PROCESSED_DATA_PATH\"]\n",
    "\n",
    "PROCESSED_DATA_DIR = path_file[\"PROCESSED_DATA_DIR\"]\n",
    "SUBMISSION_DIR = path_file[\"SUBMISSION_DIR\"]\n",
    "\n",
    "OUTPUT_DIR = path_file[\"OUTPUT_DIR\"]"
   ]
  },
  {
   "cell_type": "code",
   "execution_count": 197,
   "metadata": {},
   "outputs": [],
   "source": [
    "TARGET_COL = \"取引価格（総額）_log\"\n",
    "ID_COL = \"ID\"\n",
    "RANDOM_STATE = 42"
   ]
  },
  {
   "cell_type": "code",
   "execution_count": 198,
   "metadata": {},
   "outputs": [],
   "source": [
    "def set_seed(seed=42):\n",
    "  np.random.seed(seed)\n",
    "  random.seed(seed)\n",
    "  os.environ[\"PYTHONHASHSEED\"]=str(seed)"
   ]
  },
  {
   "cell_type": "code",
   "execution_count": 199,
   "metadata": {},
   "outputs": [],
   "source": [
    "train_df=pd.read_csv(TRAIN_PROCESSED_DATA_PATH)\n",
    "test_df=pd.read_csv(TEST_PROCESSED_DATA_PATH)"
   ]
  },
  {
   "cell_type": "code",
   "execution_count": 200,
   "metadata": {},
   "outputs": [],
   "source": [
    "train_df[\"isTest\"] = 0\n",
    "test_df[\"isTest\"] = 1\n",
    "all_df = pd.concat([train_df,test_df])"
   ]
  },
  {
   "cell_type": "code",
   "execution_count": 201,
   "metadata": {},
   "outputs": [],
   "source": [
    "from sklearn.preprocessing import LabelEncoder\n",
    "\n",
    "qualitative = [f for f in train_df.columns if train_df.dtypes[f] == 'object']\n",
    "\n",
    "for col in qualitative:\n",
    "  le = LabelEncoder()\n",
    "  le.fit(all_df[col])\n",
    "  all_df[col] = le.transform(all_df[col])"
   ]
  },
  {
   "cell_type": "code",
   "execution_count": 202,
   "metadata": {},
   "outputs": [],
   "source": [
    "all_df = all_df.fillna(all_df.mode().iloc[0])"
   ]
  },
  {
   "cell_type": "code",
   "execution_count": 203,
   "metadata": {},
   "outputs": [],
   "source": [
    "from sklearn.preprocessing import StandardScaler \n",
    "ss_col = list( set(all_df.columns.to_list()) - set([\"ID\",\"取引価格（総額）_log\",\"isTest\"]))\n",
    "\n",
    "ss = StandardScaler()\n",
    "ss.fit(all_df[ss_col])\n",
    "all_df[ss_col] = ss.transform(all_df[ss_col])"
   ]
  },
  {
   "cell_type": "code",
   "execution_count": 204,
   "metadata": {},
   "outputs": [],
   "source": [
    "\n",
    "train_df = all_df[all_df[\"isTest\"] == 0].drop(\"isTest\",axis=1)\n",
    "test_df = all_df[all_df[\"isTest\"] == 1].drop([\"isTest\",\"取引価格（総額）_log\"],axis=1)"
   ]
  },
  {
   "cell_type": "code",
   "execution_count": 205,
   "metadata": {},
   "outputs": [
    {
     "data": {
      "text/html": [
       "<div>\n",
       "<style scoped>\n",
       "    .dataframe tbody tr th:only-of-type {\n",
       "        vertical-align: middle;\n",
       "    }\n",
       "\n",
       "    .dataframe tbody tr th {\n",
       "        vertical-align: top;\n",
       "    }\n",
       "\n",
       "    .dataframe thead th {\n",
       "        text-align: right;\n",
       "    }\n",
       "</style>\n",
       "<table border=\"1\" class=\"dataframe\">\n",
       "  <thead>\n",
       "    <tr style=\"text-align: right;\">\n",
       "      <th></th>\n",
       "      <th>ID</th>\n",
       "      <th>市区町村コード</th>\n",
       "      <th>都道府県名</th>\n",
       "      <th>市区町村名</th>\n",
       "      <th>地区名</th>\n",
       "      <th>最寄駅：名称</th>\n",
       "      <th>最寄駅：距離（分）</th>\n",
       "      <th>間取り</th>\n",
       "      <th>面積（㎡）</th>\n",
       "      <th>建築年</th>\n",
       "      <th>建物の構造</th>\n",
       "      <th>用途</th>\n",
       "      <th>今後の利用目的</th>\n",
       "      <th>都市計画</th>\n",
       "      <th>建ぺい率（％）</th>\n",
       "      <th>容積率（％）</th>\n",
       "      <th>取引時点</th>\n",
       "      <th>改装</th>\n",
       "      <th>取引価格（総額）_log</th>\n",
       "    </tr>\n",
       "  </thead>\n",
       "  <tbody>\n",
       "    <tr>\n",
       "      <th>0</th>\n",
       "      <td>1060685</td>\n",
       "      <td>-1.814578</td>\n",
       "      <td>-1.389598</td>\n",
       "      <td>0.217832</td>\n",
       "      <td>-0.498332</td>\n",
       "      <td>-0.647407</td>\n",
       "      <td>-0.291924</td>\n",
       "      <td>0.527291</td>\n",
       "      <td>0.962571</td>\n",
       "      <td>-0.042190</td>\n",
       "      <td>1.264283</td>\n",
       "      <td>-0.295188</td>\n",
       "      <td>0.860422</td>\n",
       "      <td>-0.173433</td>\n",
       "      <td>-0.713159</td>\n",
       "      <td>-0.669949</td>\n",
       "      <td>-0.960576</td>\n",
       "      <td>0.289486</td>\n",
       "      <td>7.079181</td>\n",
       "    </tr>\n",
       "    <tr>\n",
       "      <th>1</th>\n",
       "      <td>1005580</td>\n",
       "      <td>-1.815308</td>\n",
       "      <td>-1.389598</td>\n",
       "      <td>0.199605</td>\n",
       "      <td>-0.891804</td>\n",
       "      <td>-1.503594</td>\n",
       "      <td>-0.541793</td>\n",
       "      <td>-1.734590</td>\n",
       "      <td>-1.240865</td>\n",
       "      <td>-1.171005</td>\n",
       "      <td>1.264283</td>\n",
       "      <td>3.334662</td>\n",
       "      <td>-0.955253</td>\n",
       "      <td>1.400902</td>\n",
       "      <td>1.225464</td>\n",
       "      <td>0.011258</td>\n",
       "      <td>1.231692</td>\n",
       "      <td>0.289486</td>\n",
       "      <td>6.755875</td>\n",
       "    </tr>\n",
       "    <tr>\n",
       "      <th>2</th>\n",
       "      <td>1001363</td>\n",
       "      <td>-1.815308</td>\n",
       "      <td>-1.389598</td>\n",
       "      <td>0.199605</td>\n",
       "      <td>-1.034571</td>\n",
       "      <td>1.247403</td>\n",
       "      <td>-0.042056</td>\n",
       "      <td>0.527291</td>\n",
       "      <td>0.301541</td>\n",
       "      <td>-0.389517</td>\n",
       "      <td>1.264283</td>\n",
       "      <td>-0.295188</td>\n",
       "      <td>0.860422</td>\n",
       "      <td>1.400902</td>\n",
       "      <td>1.225464</td>\n",
       "      <td>0.011258</td>\n",
       "      <td>-0.835304</td>\n",
       "      <td>0.289486</td>\n",
       "      <td>7.204120</td>\n",
       "    </tr>\n",
       "  </tbody>\n",
       "</table>\n",
       "</div>"
      ],
      "text/plain": [
       "        ID   市区町村コード     都道府県名     市区町村名       地区名    最寄駅：名称  最寄駅：距離（分）  \\\n",
       "0  1060685 -1.814578 -1.389598  0.217832 -0.498332 -0.647407  -0.291924   \n",
       "1  1005580 -1.815308 -1.389598  0.199605 -0.891804 -1.503594  -0.541793   \n",
       "2  1001363 -1.815308 -1.389598  0.199605 -1.034571  1.247403  -0.042056   \n",
       "\n",
       "        間取り     面積（㎡）       建築年     建物の構造        用途   今後の利用目的      都市計画  \\\n",
       "0  0.527291  0.962571 -0.042190  1.264283 -0.295188  0.860422 -0.173433   \n",
       "1 -1.734590 -1.240865 -1.171005  1.264283  3.334662 -0.955253  1.400902   \n",
       "2  0.527291  0.301541 -0.389517  1.264283 -0.295188  0.860422  1.400902   \n",
       "\n",
       "    建ぺい率（％）    容積率（％）      取引時点        改装  取引価格（総額）_log  \n",
       "0 -0.713159 -0.669949 -0.960576  0.289486      7.079181  \n",
       "1  1.225464  0.011258  1.231692  0.289486      6.755875  \n",
       "2  1.225464  0.011258 -0.835304  0.289486      7.204120  "
      ]
     },
     "execution_count": 205,
     "metadata": {},
     "output_type": "execute_result"
    }
   ],
   "source": [
    "train_df.head(3)"
   ]
  },
  {
   "cell_type": "code",
   "execution_count": 206,
   "metadata": {},
   "outputs": [],
   "source": [
    "from sklearn.model_selection import train_test_split\n",
    "\n",
    "del_col = [TARGET_COL,\"ID\"]\n",
    "y_train = train_df[TARGET_COL]\n",
    "\n",
    "X_train,X_test,y_train,y_test = train_test_split(train_df.drop(del_col,axis=1),y_train,train_size=0.75,shuffle=True,random_state=RANDOM_STATE)"
   ]
  },
  {
   "cell_type": "code",
   "execution_count": 207,
   "metadata": {},
   "outputs": [
    {
     "data": {
      "text/html": [
       "<style>#sk-container-id-10 {color: black;}#sk-container-id-10 pre{padding: 0;}#sk-container-id-10 div.sk-toggleable {background-color: white;}#sk-container-id-10 label.sk-toggleable__label {cursor: pointer;display: block;width: 100%;margin-bottom: 0;padding: 0.3em;box-sizing: border-box;text-align: center;}#sk-container-id-10 label.sk-toggleable__label-arrow:before {content: \"▸\";float: left;margin-right: 0.25em;color: #696969;}#sk-container-id-10 label.sk-toggleable__label-arrow:hover:before {color: black;}#sk-container-id-10 div.sk-estimator:hover label.sk-toggleable__label-arrow:before {color: black;}#sk-container-id-10 div.sk-toggleable__content {max-height: 0;max-width: 0;overflow: hidden;text-align: left;background-color: #f0f8ff;}#sk-container-id-10 div.sk-toggleable__content pre {margin: 0.2em;color: black;border-radius: 0.25em;background-color: #f0f8ff;}#sk-container-id-10 input.sk-toggleable__control:checked~div.sk-toggleable__content {max-height: 200px;max-width: 100%;overflow: auto;}#sk-container-id-10 input.sk-toggleable__control:checked~label.sk-toggleable__label-arrow:before {content: \"▾\";}#sk-container-id-10 div.sk-estimator input.sk-toggleable__control:checked~label.sk-toggleable__label {background-color: #d4ebff;}#sk-container-id-10 div.sk-label input.sk-toggleable__control:checked~label.sk-toggleable__label {background-color: #d4ebff;}#sk-container-id-10 input.sk-hidden--visually {border: 0;clip: rect(1px 1px 1px 1px);clip: rect(1px, 1px, 1px, 1px);height: 1px;margin: -1px;overflow: hidden;padding: 0;position: absolute;width: 1px;}#sk-container-id-10 div.sk-estimator {font-family: monospace;background-color: #f0f8ff;border: 1px dotted black;border-radius: 0.25em;box-sizing: border-box;margin-bottom: 0.5em;}#sk-container-id-10 div.sk-estimator:hover {background-color: #d4ebff;}#sk-container-id-10 div.sk-parallel-item::after {content: \"\";width: 100%;border-bottom: 1px solid gray;flex-grow: 1;}#sk-container-id-10 div.sk-label:hover label.sk-toggleable__label {background-color: #d4ebff;}#sk-container-id-10 div.sk-serial::before {content: \"\";position: absolute;border-left: 1px solid gray;box-sizing: border-box;top: 0;bottom: 0;left: 50%;z-index: 0;}#sk-container-id-10 div.sk-serial {display: flex;flex-direction: column;align-items: center;background-color: white;padding-right: 0.2em;padding-left: 0.2em;position: relative;}#sk-container-id-10 div.sk-item {position: relative;z-index: 1;}#sk-container-id-10 div.sk-parallel {display: flex;align-items: stretch;justify-content: center;background-color: white;position: relative;}#sk-container-id-10 div.sk-item::before, #sk-container-id-10 div.sk-parallel-item::before {content: \"\";position: absolute;border-left: 1px solid gray;box-sizing: border-box;top: 0;bottom: 0;left: 50%;z-index: -1;}#sk-container-id-10 div.sk-parallel-item {display: flex;flex-direction: column;z-index: 1;position: relative;background-color: white;}#sk-container-id-10 div.sk-parallel-item:first-child::after {align-self: flex-end;width: 50%;}#sk-container-id-10 div.sk-parallel-item:last-child::after {align-self: flex-start;width: 50%;}#sk-container-id-10 div.sk-parallel-item:only-child::after {width: 0;}#sk-container-id-10 div.sk-dashed-wrapped {border: 1px dashed gray;margin: 0 0.4em 0.5em 0.4em;box-sizing: border-box;padding-bottom: 0.4em;background-color: white;}#sk-container-id-10 div.sk-label label {font-family: monospace;font-weight: bold;display: inline-block;line-height: 1.2em;}#sk-container-id-10 div.sk-label-container {text-align: center;}#sk-container-id-10 div.sk-container {/* jupyter's `normalize.less` sets `[hidden] { display: none; }` but bootstrap.min.css set `[hidden] { display: none !important; }` so we also need the `!important` here to be able to override the default hidden behavior on the sphinx rendered scikit-learn.org. See: https://github.com/scikit-learn/scikit-learn/issues/21755 */display: inline-block !important;position: relative;}#sk-container-id-10 div.sk-text-repr-fallback {display: none;}</style><div id=\"sk-container-id-10\" class=\"sk-top-container\"><div class=\"sk-text-repr-fallback\"><pre>LinearRegression()</pre><b>In a Jupyter environment, please rerun this cell to show the HTML representation or trust the notebook. <br />On GitHub, the HTML representation is unable to render, please try loading this page with nbviewer.org.</b></div><div class=\"sk-container\" hidden><div class=\"sk-item\"><div class=\"sk-estimator sk-toggleable\"><input class=\"sk-toggleable__control sk-hidden--visually\" id=\"sk-estimator-id-10\" type=\"checkbox\" checked><label for=\"sk-estimator-id-10\" class=\"sk-toggleable__label sk-toggleable__label-arrow\">LinearRegression</label><div class=\"sk-toggleable__content\"><pre>LinearRegression()</pre></div></div></div></div></div>"
      ],
      "text/plain": [
       "LinearRegression()"
      ]
     },
     "execution_count": 207,
     "metadata": {},
     "output_type": "execute_result"
    }
   ],
   "source": [
    "from sklearn.linear_model import LinearRegression\n",
    "lr = LinearRegression()\n",
    "lr.fit(X_train,y_train)"
   ]
  },
  {
   "cell_type": "code",
   "execution_count": 208,
   "metadata": {},
   "outputs": [
    {
     "data": {
      "text/plain": [
       "Index(['市区町村コード', '都道府県名', '市区町村名', '地区名', '最寄駅：名称', '最寄駅：距離（分）', '間取り',\n",
       "       '面積（㎡）', '建築年', '建物の構造', '用途', '今後の利用目的', '都市計画', '建ぺい率（％）', '容積率（％）',\n",
       "       '取引時点', '改装'],\n",
       "      dtype='object')"
      ]
     },
     "execution_count": 208,
     "metadata": {},
     "output_type": "execute_result"
    }
   ],
   "source": [
    "X_train.columns"
   ]
  },
  {
   "cell_type": "code",
   "execution_count": 209,
   "metadata": {},
   "outputs": [
    {
     "data": {
      "image/png": "[encoded data removed]",
      "text/plain": [
       "<Figure size 1000x500 with 1 Axes>"
      ]
     },
     "metadata": {},
     "output_type": "display_data"
    }
   ],
   "source": [
    "feature_imp = pd.DataFrame(sorted(zip(np.abs(lr.coef_),X_train.columns)),columns=['value','feature'])\n",
    "plt.figure(figsize=(10,5))\n",
    "sns.barplot(data=feature_imp.sort_values(by='value',ascending=False),x=\"value\",y=\"feature\",color=\"deepskyblue\")\n",
    "plt.title(\"LinearRegression coef_\")\n",
    "plt.tight_layout()\n",
    "plt.show()"
   ]
  },
  {
   "cell_type": "code",
   "execution_count": 210,
   "metadata": {},
   "outputs": [
    {
     "data": {
      "text/plain": [
       "0.17553636223427785"
      ]
     },
     "execution_count": 210,
     "metadata": {},
     "output_type": "execute_result"
    }
   ],
   "source": [
    "from sklearn.metrics import mean_absolute_error\n",
    "y_pred = lr.predict(X_test)\n",
    "mean_absolute_error(y_test,y_pred)"
   ]
  },
  {
   "cell_type": "code",
   "execution_count": 211,
   "metadata": {},
   "outputs": [],
   "source": [
    "test_df[TARGET_COL] = lr.predict(test_df.drop(\"ID\",axis=1))\n",
    "\n",
    "submission = pd.read_csv(SUBMISSION_DIR)\n",
    "submission[\"取引価格（総額）_log\"] = test_df[TARGET_COL]\n",
    "submission = pd.merge(submission[\"ID\"], test_df[[\"ID\",\"取引価格（総額）_log\"]], on=\"ID\")"
   ]
  },
  {
   "cell_type": "code",
   "execution_count": 212,
   "metadata": {},
   "outputs": [
    {
     "data": {
      "text/html": [
       "<div>\n",
       "<style scoped>\n",
       "    .dataframe tbody tr th:only-of-type {\n",
       "        vertical-align: middle;\n",
       "    }\n",
       "\n",
       "    .dataframe tbody tr th {\n",
       "        vertical-align: top;\n",
       "    }\n",
       "\n",
       "    .dataframe thead th {\n",
       "        text-align: right;\n",
       "    }\n",
       "</style>\n",
       "<table border=\"1\" class=\"dataframe\">\n",
       "  <thead>\n",
       "    <tr style=\"text-align: right;\">\n",
       "      <th></th>\n",
       "      <th>ID</th>\n",
       "      <th>取引価格（総額）_log</th>\n",
       "    </tr>\n",
       "  </thead>\n",
       "  <tbody>\n",
       "    <tr>\n",
       "      <th>0</th>\n",
       "      <td>1000000</td>\n",
       "      <td>7.188772</td>\n",
       "    </tr>\n",
       "    <tr>\n",
       "      <th>1</th>\n",
       "      <td>1000056</td>\n",
       "      <td>7.704291</td>\n",
       "    </tr>\n",
       "    <tr>\n",
       "      <th>2</th>\n",
       "      <td>1000108</td>\n",
       "      <td>6.869441</td>\n",
       "    </tr>\n",
       "    <tr>\n",
       "      <th>3</th>\n",
       "      <td>1000109</td>\n",
       "      <td>7.204846</td>\n",
       "    </tr>\n",
       "    <tr>\n",
       "      <th>4</th>\n",
       "      <td>1000110</td>\n",
       "      <td>6.769197</td>\n",
       "    </tr>\n",
       "    <tr>\n",
       "      <th>...</th>\n",
       "      <td>...</td>\n",
       "      <td>...</td>\n",
       "    </tr>\n",
       "    <tr>\n",
       "      <th>19461</th>\n",
       "      <td>47003828</td>\n",
       "      <td>7.578019</td>\n",
       "    </tr>\n",
       "    <tr>\n",
       "      <th>19462</th>\n",
       "      <td>47003829</td>\n",
       "      <td>7.286010</td>\n",
       "    </tr>\n",
       "    <tr>\n",
       "      <th>19463</th>\n",
       "      <td>47003880</td>\n",
       "      <td>7.040516</td>\n",
       "    </tr>\n",
       "    <tr>\n",
       "      <th>19464</th>\n",
       "      <td>47006648</td>\n",
       "      <td>7.332219</td>\n",
       "    </tr>\n",
       "    <tr>\n",
       "      <th>19465</th>\n",
       "      <td>47007421</td>\n",
       "      <td>7.393187</td>\n",
       "    </tr>\n",
       "  </tbody>\n",
       "</table>\n",
       "<p>19466 rows × 2 columns</p>\n",
       "</div>"
      ],
      "text/plain": [
       "             ID  取引価格（総額）_log\n",
       "0       1000000      7.188772\n",
       "1       1000056      7.704291\n",
       "2       1000108      6.869441\n",
       "3       1000109      7.204846\n",
       "4       1000110      6.769197\n",
       "...         ...           ...\n",
       "19461  47003828      7.578019\n",
       "19462  47003829      7.286010\n",
       "19463  47003880      7.040516\n",
       "19464  47006648      7.332219\n",
       "19465  47007421      7.393187\n",
       "\n",
       "[19466 rows x 2 columns]"
      ]
     },
     "execution_count": 212,
     "metadata": {},
     "output_type": "execute_result"
    }
   ],
   "source": [
    "submission"
   ]
  },
  {
   "cell_type": "code",
   "execution_count": null,
   "metadata": {},
   "outputs": [],
   "source": [
    "exp_name = \"liniearregression_baseline\"\n",
    "\n",
    "import pytz\n",
    "import datetime\n",
    "\n",
    "now = datetime.datetime.now(pytz.timezone('Asia/Tokyo')).strftime('%Y-%m--%d-%H-%M-%S')\n",
    "if not os.path.exists(OUTPUT_DIR):\n",
    "  os.mkdir(OUTPUT_DIR)\n",
    "\n",
    "submission.to_csv(f\"{OUTPUT_DIR}submission_{exp_name}_{now}.csv\",index=False)"
   ]
  }
 ],
 "metadata": {
  "kernelspec": {
   "display_name": "Python 3",
   "language": "python",
   "name": "python3"
  },
  "language_info": {
   "codemirror_mode": {
    "name": "ipython",
    "version": 3
   },
   "file_extension": ".py",
   "mimetype": "text/x-python",
   "name": "python",
   "nbconvert_exporter": "python",
   "pygments_lexer": "ipython3",
   "version": "3.10.1"
  },
  "orig_nbformat": 4
 },
 "nbformat": 4,
 "nbformat_minor": 2
}
